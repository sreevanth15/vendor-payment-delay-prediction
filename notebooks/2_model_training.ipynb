{
 "cells": [
  {
   "cell_type": "markdown",
   "id": "d48ca43d",
   "metadata": {},
   "source": [
    "# Vendor Payment Delay Prediction - Model Training\n",
    "\n",
    "## Overview\n",
    "This notebook implements and compares multiple machine learning models for predicting vendor payment delays:\n",
    "\n",
    "### Models Implemented:\n",
    "1. **Logistic Regression** - Baseline interpretable model\n",
    "2. **Random Forest** - Handles non-linear relationships and feature interactions  \n",
    "3. **XGBoost** - High-performance gradient boosting\n",
    "4. **LightGBM** - Fast gradient boosting with optimal performance\n",
    "\n",
    "### Evaluation Metrics:\n",
    "- Accuracy, Precision, Recall, F1-Score\n",
    "- ROC-AUC for ranking quality\n",
    "- Business impact analysis\n",
    "- Feature importance analysis"
   ]
  },
  {
   "cell_type": "code",
   "execution_count": null,
   "id": "a6f0625c",
   "metadata": {},
   "outputs": [],
   "source": [
    "# Import Required Libraries\n",
    "import pandas as pd\n",
    "import numpy as np\n",
    "import matplotlib.pyplot as plt\n",
    "import seaborn as sns\n",
    "import sys\n",
    "import os\n",
    "sys.path.append('../src')\n",
    "\n",
    "# Machine Learning Libraries\n",
    "from sklearn.model_selection import train_test_split, GridSearchCV, cross_val_score\n",
    "from sklearn.linear_model import LogisticRegression\n",
    "from sklearn.ensemble import RandomForestClassifier\n",
    "from sklearn.metrics import (\n",
    "    classification_report, confusion_matrix, roc_auc_score, \n",
    "    accuracy_score, precision_score, recall_score, f1_score,\n",
    "    roc_curve, precision_recall_curve\n",
    ")\n",
    "from sklearn.preprocessing import StandardScaler\n",
    "\n",
    "# Handle class imbalance\n",
    "from imblearn.over_sampling import SMOTE\n",
    "\n",
    "# Gradient Boosting (install with: pip install xgboost lightgbm)\n",
    "try:\n",
    "    import xgboost as xgb\n",
    "    print(\"✅ XGBoost imported successfully\")\n",
    "except ImportError:\n",
    "    print(\"❌ XGBoost not installed. Run: pip install xgboost\")\n",
    "\n",
    "try:\n",
    "    import lightgbm as lgb  \n",
    "    print(\"✅ LightGBM imported successfully\")\n",
    "except ImportError:\n",
    "    print(\"❌ LightGBM not installed. Run: pip install lightgbm\")\n",
    "\n",
    "# Our custom modules\n",
    "from data_generator import VendorPaymentDataGenerator\n",
    "from preprocessing import DataPreprocessor\n",
    "\n",
    "import warnings\n",
    "warnings.filterwarnings('ignore')\n",
    "\n",
    "print(\"All libraries imported successfully!\")"
   ]
  }
 ],
 "metadata": {
  "language_info": {
   "name": "python"
  }
 },
 "nbformat": 4,
 "nbformat_minor": 5
}
